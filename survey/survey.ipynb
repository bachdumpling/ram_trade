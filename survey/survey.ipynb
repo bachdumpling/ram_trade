{
 "cells": [
  {
   "cell_type": "code",
   "execution_count": null,
   "metadata": {},
   "outputs": [],
   "source": [
    "import matplotlib.pyplot as plt"
   ]
  },
  {
   "cell_type": "code",
   "execution_count": null,
   "metadata": {},
   "outputs": [],
   "source": [
    "# Data points\n",
    "labels = ['Overall Market Size', 'Addressable Market', 'Students Encountering Scams', 'Transactions Falling Through']\n",
    "sizes = [16556, 13693, 10745, 9868]\n",
    "\n",
    "# Colors\n",
    "colors = ['#1f77b4', '#ff7f0e', '#1f77b4', '#1f77b4']\n",
    "\n",
    "# Create the bar chart\n",
    "fig, ax = plt.subplots(figsize=(10, 6))\n",
    "bars = ax.bar(labels, sizes, color=colors)\n",
    "\n",
    "# Highlight the addressable market\n",
    "bars[1].set_color('#ff7f0e')\n",
    "\n",
    "# Add labels and values to the bars\n",
    "for bar in bars:\n",
    "    height = bar.get_height()\n",
    "    ax.annotate(f'{height:,}', xy=(bar.get_x() + bar.get_width() / 2, height),\n",
    "                xytext=(0, 3), textcoords='offset points', ha='center', va='bottom')\n",
    "\n",
    "# Customize the chart\n",
    "ax.set_title('Ram Trade Market Analysis', fontsize=16, fontweight='bold')\n",
    "ax.set_xlabel('Market Segments', fontsize=12)\n",
    "ax.set_ylabel('Number of Students', fontsize=12)\n",
    "ax.tick_params(axis='both', labelsize=10)\n",
    "ax.yaxis.set_major_formatter(plt.FuncFormatter(lambda x, p: format(int(x), ',')))\n",
    "\n",
    "# Add a legend\n",
    "legend_labels = ['Addressable Market' if i == 1 else 'Other Segments' for i in range(len(labels))]\n",
    "ax.legend(bars, legend_labels, loc='upper right', fontsize=10)\n",
    "\n",
    "# Display the chart\n",
    "plt.tight_layout()\n",
    "plt.show()"
   ]
  }
 ],
 "metadata": {
  "language_info": {
   "name": "python"
  }
 },
 "nbformat": 4,
 "nbformat_minor": 2
}
